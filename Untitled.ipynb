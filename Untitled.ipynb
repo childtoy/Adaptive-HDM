{
 "cells": [
  {
   "cell_type": "code",
   "execution_count": 19,
   "id": "828d9eb8-c30c-446c-88d2-0b44dbd3de1b",
   "metadata": {},
   "outputs": [],
   "source": [
    "import os\n",
    "import json\n",
    "from data_loaders.get_data import get_dataset_loader\n"
   ]
  },
  {
   "cell_type": "code",
   "execution_count": 20,
   "id": "d437bf93-9bce-49b4-b2a4-dc51dc31e47f",
   "metadata": {},
   "outputs": [
    {
     "name": "stdout",
     "output_type": "stream",
     "text": [
      "Reading ././dataset/humanml_opt.txt\n",
      "Loading dataset t2m ...\n"
     ]
    },
    {
     "name": "stderr",
     "output_type": "stream",
     "text": [
      "100%|█████████████████████████████████████████████████████████████████████████████████████████████████| 23384/23384 [00:07<00:00, 3159.20it/s]"
     ]
    },
    {
     "name": "stdout",
     "output_type": "stream",
     "text": [
      "Pointer Pointing at 0\n"
     ]
    },
    {
     "name": "stderr",
     "output_type": "stream",
     "text": [
      "\n"
     ]
    }
   ],
   "source": [
    "data_tu = get_dataset_loader(name='humanml', batch_size=16, num_frames=128)\n"
   ]
  },
  {
   "cell_type": "code",
   "execution_count": 22,
   "id": "554b2f14-0a16-4de8-b860-61e99d495221",
   "metadata": {},
   "outputs": [],
   "source": [
    "data2 = next(iter(data_tu))"
   ]
  },
  {
   "cell_type": "code",
   "execution_count": 23,
   "id": "2b63535d-4ba1-4929-95d8-d1436dd3af8b",
   "metadata": {},
   "outputs": [],
   "source": [
    "data = data2[0]"
   ]
  },
  {
   "cell_type": "code",
   "execution_count": 28,
   "id": "ee95bf66-4208-48ca-a078-0530ae7f75ae",
   "metadata": {},
   "outputs": [],
   "source": [
    "from data_loaders.humanml.scripts.motion_process import recover_rot"
   ]
  },
  {
   "cell_type": "code",
   "execution_count": 103,
   "id": "37b707a8-8b28-4b61-ba9c-89aa959a6878",
   "metadata": {},
   "outputs": [],
   "source": [
    "import torch\n",
    "data = data2[0]\n",
    "data = data.squeeze(2).permute(0,2,1)"
   ]
  },
  {
   "cell_type": "code",
   "execution_count": 101,
   "id": "a7506b17-2a45-435e-ab28-c88d37643ea3",
   "metadata": {},
   "outputs": [],
   "source": [
    "B, L, D = data.shape\n",
    "joints_num = 22 if data.shape[-1] == 263 else 21\n",
    "r_rot_quat, r_pos = recover_root_rot_pos(data)\n",
    "r_pos_pad = torch.cat([r_pos, torch.zeros_like(r_pos)], dim=-1).unsqueeze(-2)\n",
    "r_rot_cont6d = quaternion_to_cont6d(r_rot_quat)\n",
    "start_indx = 1 + 2 + 1 + (joints_num - 1) * 3\n",
    "end_indx = start_indx + (joints_num - 1) * 6\n",
    "cont6d_params = data[..., start_indx:end_indx]\n",
    "cont6d_params = torch.cat([r_rot_cont6d, cont6d_params], dim=-1)\n",
    "cont6d_params = cont6d_params.view(B,L,joints_num, 6)\n",
    "# cont6d_params = cont6d_params.view(-1, joints_num, 6)\n",
    "cont6d_params = torch.cat([cont6d_params, r_pos_pad], dim=-2)"
   ]
  },
  {
   "cell_type": "code",
   "execution_count": 104,
   "id": "13b007d7-394f-4095-8206-6b9b4a2b3119",
   "metadata": {},
   "outputs": [
    {
     "data": {
      "text/plain": [
       "torch.Size([16, 196, 263])"
      ]
     },
     "execution_count": 104,
     "metadata": {},
     "output_type": "execute_result"
    }
   ],
   "source": [
    "data.shape"
   ]
  },
  {
   "cell_type": "code",
   "execution_count": 62,
   "id": "424c4f4d-b703-4072-ba8f-deca45427013",
   "metadata": {},
   "outputs": [
    {
     "data": {
      "text/plain": [
       "138"
      ]
     },
     "execution_count": 62,
     "metadata": {},
     "output_type": "execute_result"
    }
   ],
   "source": [
    "23*6\n"
   ]
  },
  {
   "cell_type": "code",
   "execution_count": 34,
   "id": "f4972fed-e725-47bd-98a7-d198795a096e",
   "metadata": {},
   "outputs": [
    {
     "data": {
      "text/plain": [
       "torch.Size([16, 263, 1, 196])"
      ]
     },
     "execution_count": 34,
     "metadata": {},
     "output_type": "execute_result"
    }
   ],
   "source": [
    "data.shape"
   ]
  },
  {
   "cell_type": "code",
   "execution_count": 37,
   "id": "3fd54128-acb6-46ae-88cc-1d6091c690dd",
   "metadata": {},
   "outputs": [
    {
     "data": {
      "text/plain": [
       "torch.Size([16, 263, 1, 126])"
      ]
     },
     "execution_count": 37,
     "metadata": {},
     "output_type": "execute_result"
    }
   ],
   "source": [
    "cont6d_params.shape"
   ]
  },
  {
   "cell_type": "code",
   "execution_count": 38,
   "id": "f547459d-255a-42dd-80ac-ece917305cf6",
   "metadata": {},
   "outputs": [
    {
     "data": {
      "text/plain": [
       "torch.Size([16, 263, 1, 196])"
      ]
     },
     "execution_count": 38,
     "metadata": {},
     "output_type": "execute_result"
    }
   ],
   "source": [
    "data.shape"
   ]
  },
  {
   "cell_type": "code",
   "execution_count": null,
   "id": "d08bc9b0-c7b1-46a5-afad-271033e217f1",
   "metadata": {},
   "outputs": [],
   "source": []
  }
 ],
 "metadata": {
  "kernelspec": {
   "display_name": "Python 3 (ipykernel)",
   "language": "python",
   "name": "python3"
  },
  "language_info": {
   "codemirror_mode": {
    "name": "ipython",
    "version": 3
   },
   "file_extension": ".py",
   "mimetype": "text/x-python",
   "name": "python",
   "nbconvert_exporter": "python",
   "pygments_lexer": "ipython3",
   "version": "3.8.10"
  }
 },
 "nbformat": 4,
 "nbformat_minor": 5
}
