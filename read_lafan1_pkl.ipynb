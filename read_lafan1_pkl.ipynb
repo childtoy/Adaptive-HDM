{
 "cells": [
  {
   "cell_type": "code",
   "execution_count": 1,
   "id": "5ef18dcc-68d5-4420-a0f9-dc59de978082",
   "metadata": {},
   "outputs": [],
   "source": [
    "import os \n",
    "import pickle as pkl\n",
    "import numpy as np\n",
    "import math\n",
    "from matplotlib import pyplot as plt \n",
    "\n",
    "os.environ[\"CUDA_DEVICE_ORDER\"]=\"PCI_BUS_ID\"\n",
    "os.environ[\"CUDA_VISIBLE_DEVICES\"]=\"7\""
   ]
  },
  {
   "cell_type": "code",
   "execution_count": 2,
   "id": "78ec7bc9",
   "metadata": {},
   "outputs": [
    {
     "name": "stderr",
     "output_type": "stream",
     "text": [
      "/home/drizzle0171/miniconda3/envs/gluegen/lib/python3.8/site-packages/tqdm/auto.py:21: TqdmWarning: IProgress not found. Please update jupyter and ipywidgets. See https://ipywidgets.readthedocs.io/en/stable/user_install.html\n",
      "  from .autonotebook import tqdm as notebook_tqdm\n"
     ]
    }
   ],
   "source": [
    "import sys\n",
    "sys.path.append('/nas/home/drizzle0171/motion-generation/MotionGPDiffusion')\n",
    "\n",
    "from LPM.model_final import (\n",
    "    DiffusionUNetLegacy,\n",
    ")\n",
    "\n",
    "import torch\n",
    "import torch.nn as nn\n",
    "model = DiffusionUNetLegacy(\n",
    "            name                 = 'unet',\n",
    "            length               = 60, \n",
    "            dims                 = 1,\n",
    "            n_in_channels        = 1,\n",
    "            n_base_channels      = 128,\n",
    "            n_emb_dim            = 128,\n",
    "            n_cond_dim           = 0,\n",
    "            n_time_dim           = 0,\n",
    "            n_enc_blocks         = 7, # number of encoder blocks\n",
    "            n_groups             = 16, # group norm paramter\n",
    "            n_heads              = 4, # number of heads in QKV attention\n",
    "            actv                 = nn.SiLU(),\n",
    "            kernel_size          = 3, # kernel size (3)\n",
    "            padding              = 1, # padding size (1)\n",
    "            use_attention        = False,\n",
    "            skip_connection      = True, # additional skip connection\n",
    "            chnnel_multiples     = [1,2,2,2,4,4,8],\n",
    "            updown_rates         = [1,1,2,1,2,1,2],\n",
    "            use_scale_shift_norm = True,\n",
    "            device               = 'cuda',\n",
    "        ) # input:[B x C x L] => output:[B x C x L]\n",
    "\n",
    "model.load_state_dict(torch.load('/nas/home/drizzle0171/motion-generation/MotionGPDiffusion/LPM/result/original-b7-lr1e-4-schdCS-wd0.1-dropout-norm-length60/ckpt_226000_0.3406183421611786.pt')['model_state_dict'])\n",
    "\n",
    "cls_value = torch.Tensor([0.03, 0.12,\n",
    "                        0.21, 0.3,\n",
    "                        0.39, 0.48,\n",
    "                        0.57, 0.66,\n",
    "                        0.8, 1.0]).cuda()\n",
    "\n",
    "model.eval()\n",
    "\n",
    "train_data = np.load('/nas/home/drizzle0171/motion-generation/MotionGPDiffusion/LPM/train_big_norm_60.npy', allow_pickle=True)\n",
    "train_data = train_data.item()\n",
    "train_x_0 = train_data['x_0']"
   ]
  },
  {
   "cell_type": "code",
   "execution_count": 3,
   "id": "d79fb31e-4698-460f-8eb3-9f09b952a23d",
   "metadata": {},
   "outputs": [],
   "source": [
    "num_sample = 100\n",
    "\n",
    "with open(\"/nas/home/drizzle0171/motion-generation/MotionGPDiffusion/dataset/LAFAN/lafan_60_train_data.pkl\", 'rb') as f:\n",
    "    data = pkl.load(f)\n",
    "    \n",
    "times = np.arange(60)\n",
    "new_data = (data['rot_6d']- np.mean(data['rot_6d'], axis=(0,1)))/np.std(data['rot_6d'], axis=(0,1))\n",
    "data_sample = torch.Tensor(new_data[20000:20000+num_sample,:,:,:]).reshape(num_sample, 60, 132).cuda()"
   ]
  },
  {
   "cell_type": "code",
   "execution_count": 10,
   "id": "db706558",
   "metadata": {},
   "outputs": [],
   "source": [
    "val_data = np.load('/nas/home/drizzle0171/motion-generation/MotionGPDiffusion/LPM/val_norm_60.npy', allow_pickle=True)\n",
    "val_data = val_data.item()\n",
    "val_x_0 = val_data['x_0']\n",
    "val_label = val_data['real_param']\n",
    "val_x_0 = (val_x_0 - train_x_0.mean()) / math.sqrt(train_x_0.var())"
   ]
  },
  {
   "cell_type": "code",
   "execution_count": 13,
   "id": "876f84f3",
   "metadata": {},
   "outputs": [
    {
     "name": "stdout",
     "output_type": "stream",
     "text": [
      "torch.Size([13200, 1, 60])\n",
      "tensor([0.1200, 0.1200, 0.1200,  ..., 0.1200, 0.1200, 0.1200], device='cuda:0')\n"
     ]
    }
   ],
   "source": [
    "data_sample = data_sample.permute(0, 2, 1).reshape(num_sample*132, 60)[:, None]\n",
    "\n",
    "with torch.no_grad():\n",
    "    output = model(data_sample)\n",
    "    \n",
    "_, pred_idx = torch.max(output.data, 1)\n",
    "output = pred_idx\n",
    "pred = cls_value[pred_idx]\n",
    "\n",
    "# 각 length parameter마다 예측한 갯수\n",
    "for i in [0.03, 0.12, 0.21, 0.3, 0.39, 0.48, 0.57, 0.66, 0.8, 1.0]:\n",
    "    print(i, ' -> ',sum(pred == i).detach().cpu().numpy())"
   ]
  },
  {
   "cell_type": "code",
   "execution_count": null,
   "id": "6dd7adc4",
   "metadata": {},
   "outputs": [],
   "source": [
    "params = [0.03, 0.12, 0.21, 0.3, 0.39, 0.48, 0.57, 0.66, 0.8, 1.0]\n",
    "\n",
    "for i in range(10):\n",
    "    fig, axes= plt.subplots(1,2, figsize=(40, 15))\n",
    "    fig.tight_layout()\n",
    "    param = pred == params[i]\n",
    "    cnt = 0\n",
    "    \n",
    "    for j in range(len(param)):\n",
    "        if param[j]:\n",
    "            axes[0].plot(times, data_sample[j].detach().cpu().numpy().squeeze(), color='royalblue', alpha=0.6, linewidth=3)\n",
    "            axes[0].set_title(f'Predicted {params[i]}', fontsize=50, pad=25)\n",
    "            axes[0].set_ylim(-3, 3)\n",
    "            axes[0].tick_params(axis=\"x\", labelsize=25)\n",
    "            axes[0].tick_params(axis=\"y\", labelsize=25)\n",
    "            cnt += 1\n",
    "        if cnt > 20:\n",
    "            break\n",
    "            cnt = 0\n",
    "            \n",
    "    for k in range(5, 20):\n",
    "        m = i * 100\n",
    "        axes[1].plot(times, val_x_0[m+k, :, :].detach().cpu().numpy().squeeze(), color='salmon', linewidth=3)\n",
    "        axes[1].set_title(f'Trajectory when length parameter {params[i]}', fontsize=50, pad=25)\n",
    "        axes[1].set_ylim(-3, 3)\n",
    "        axes[1].tick_params(axis=\"x\", labelsize=25)\n",
    "        axes[1].tick_params(axis=\"y\", labelsize=25)\n",
    "        \n",
    "    plt.savefig(f'/nas/home/drizzle0171/motion-generation/MotionGPDiffusion/LPM/result/f60_len_{str(params[i])}.png')\n",
    "    # plt.clf()\n",
    "            "
   ]
  }
 ],
 "metadata": {
  "kernelspec": {
   "display_name": "Python 3 (ipykernel)",
   "language": "python",
   "name": "python3"
  },
  "language_info": {
   "codemirror_mode": {
    "name": "ipython",
    "version": 3
   },
   "file_extension": ".py",
   "mimetype": "text/x-python",
   "name": "python",
   "nbconvert_exporter": "python",
   "pygments_lexer": "ipython3",
   "version": "3.8.5"
  }
 },
 "nbformat": 4,
 "nbformat_minor": 5
}
